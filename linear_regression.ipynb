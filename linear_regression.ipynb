{
 "cells": [
  {
   "cell_type": "code",
   "execution_count": 1,
   "metadata": {},
   "outputs": [],
   "source": [
    "import pandas as pd\n",
    "import numpy as np\n",
    "import matplotlib.pyplot as plt"
   ]
  },
  {
   "cell_type": "code",
   "execution_count": 2,
   "metadata": {},
   "outputs": [],
   "source": [
    "class LinearRegressionAnalysis:\n",
    "    def __init__(self):\n",
    "        self.df = None\n",
    "        self.trainX = None\n",
    "        self.trainY = None\n",
    "        self.testX = None\n",
    "        self.testY = None\n",
    "        self.b = None        \n",
    "        self.cols = None\n",
    "    \n",
    "    def load_data(self, fname):\n",
    "        \"\"\"\n",
    "        Load data from file\n",
    "        Drop all non-numeric columns\n",
    "        \"\"\"\n",
    "        \n",
    "        self.df = pd.read_csv(fname)\n",
    "        self.df = self.df.select_dtypes(include=np.number)\n",
    "        \n",
    "    def split_data(self, target, p=0.8, cols='all'):\n",
    "        \"\"\"\n",
    "        Randomly split data into test and train\n",
    "        \"\"\"\n",
    "        \n",
    "        assert self.df is not None, \"Need to load data before splitting\"\n",
    "        \n",
    "        mask = np.random.rand(len(self.df)) < p\n",
    "        if cols is 'all':\n",
    "            cols = list(self.df.columns)\n",
    "            cols.remove(target)\n",
    "        \n",
    "        self.cols = cols\n",
    "        self.trainX = self.df.loc[mask==True, cols].to_numpy()\n",
    "        self.testX = self.df.loc[mask==False, cols].to_numpy()\n",
    "        \n",
    "        self.trainY = self.df.loc[mask==True, target].to_numpy()\n",
    "        self.testY = self.df.loc[mask==False, target].to_numpy()\n",
    "        \n",
    "        # Reshape feature matrices and add extra column for offset\n",
    "        self.trainX = np.hstack((self.trainX.reshape(-1, len(cols)), np.ones((self.trainX.shape[0], 1))))\n",
    "        self.testX = np.hstack((self.testX.reshape(-1, len(cols)), np.ones((self.testX.shape[0], 1))))\n",
    "        \n",
    "        \n",
    "    def fit(self):\n",
    "        \"\"\"\n",
    "        Fit linear regression model to training data\n",
    "        \"\"\"\n",
    "        assert self.trainX is not None, \"Need to load and split data before fitting\"\n",
    "        X = self.trainX\n",
    "        Y = self.trainY\n",
    "        self.b = np.linalg.solve(np.dot(X.T,X), np.dot(X.T,Y))\n",
    "        \n",
    "    def plot_train_fit(self):\n",
    "        \"\"\"\n",
    "        Plot linear regerssion fit. \n",
    "        \n",
    "        Function only works when only one independent variable is used\n",
    "        \"\"\"\n",
    "        \n",
    "        assert self.b is not None, \"Need to fit data before plotting\"\n",
    "        assert self.trainX.shape[1] == 2, \"Too many independent variables to plot\"\n",
    "        \n",
    "        X = self.trainX\n",
    "        Y = self.trainY\n",
    "        \n",
    "        x = [min(X[:,0]), max(X[:,0])]\n",
    "        y = [x[0]*b[0] + b[1], x[1]*b[0] + b[1]]\n",
    "\n",
    "        plt.scatter(X[:,0], Y)\n",
    "        plt.plot(x, y, c='r')\n",
    "        plt.xlabel('Average number of rooms per house')\n",
    "        plt.ylabel('Price')\n",
    "        plt.show()\n",
    "        \n",
    "    def print_test_error(self):\n",
    "        \"\"\"\n",
    "        Print mean square error and mean absolute error of test se\n",
    "        \"\"\"\n",
    "        mse = np.mean((np.dot(self.testX, self.b) - self.testY)**2)\n",
    "        mae = np.mean(np.abs(np.dot(self.testX, self.b) - self.testY))\n",
    "        \n",
    "        print(\"MSE on test data is {}\".format(mse))\n",
    "        print(\"MAE on test data is {}\".format(mae))"
   ]
  },
  {
   "cell_type": "code",
   "execution_count": 3,
   "metadata": {},
   "outputs": [
    {
     "ename": "NameError",
     "evalue": "name 'b' is not defined",
     "output_type": "error",
     "traceback": [
      "\u001b[0;31m---------------------------------------------------------------------------\u001b[0m",
      "\u001b[0;31mNameError\u001b[0m                                 Traceback (most recent call last)",
      "\u001b[0;32m<ipython-input-3-8439fe44241a>\u001b[0m in \u001b[0;36m<module>\u001b[0;34m\u001b[0m\n\u001b[1;32m      5\u001b[0m \u001b[0mobj\u001b[0m\u001b[0;34m.\u001b[0m\u001b[0msplit_data\u001b[0m\u001b[0;34m(\u001b[0m\u001b[0mtarget\u001b[0m\u001b[0;34m=\u001b[0m\u001b[0;34m'Price'\u001b[0m\u001b[0;34m,\u001b[0m \u001b[0mcols\u001b[0m\u001b[0;34m=\u001b[0m\u001b[0;34m[\u001b[0m\u001b[0;34m'Avg. Area Number of Rooms'\u001b[0m\u001b[0;34m]\u001b[0m\u001b[0;34m)\u001b[0m\u001b[0;34m\u001b[0m\u001b[0;34m\u001b[0m\u001b[0m\n\u001b[1;32m      6\u001b[0m \u001b[0mobj\u001b[0m\u001b[0;34m.\u001b[0m\u001b[0mfit\u001b[0m\u001b[0;34m(\u001b[0m\u001b[0;34m)\u001b[0m\u001b[0;34m\u001b[0m\u001b[0;34m\u001b[0m\u001b[0m\n\u001b[0;32m----> 7\u001b[0;31m \u001b[0mobj\u001b[0m\u001b[0;34m.\u001b[0m\u001b[0mplot_train_fit\u001b[0m\u001b[0;34m(\u001b[0m\u001b[0;34m)\u001b[0m\u001b[0;34m\u001b[0m\u001b[0;34m\u001b[0m\u001b[0m\n\u001b[0m\u001b[1;32m      8\u001b[0m \u001b[0mobj\u001b[0m\u001b[0;34m.\u001b[0m\u001b[0mprint_test_error\u001b[0m\u001b[0;34m(\u001b[0m\u001b[0;34m)\u001b[0m\u001b[0;34m\u001b[0m\u001b[0;34m\u001b[0m\u001b[0m\n",
      "\u001b[0;32m<ipython-input-2-ee4e88fe6433>\u001b[0m in \u001b[0;36mplot_train_fit\u001b[0;34m(self)\u001b[0m\n\u001b[1;32m     65\u001b[0m \u001b[0;34m\u001b[0m\u001b[0m\n\u001b[1;32m     66\u001b[0m         \u001b[0mx\u001b[0m \u001b[0;34m=\u001b[0m \u001b[0;34m[\u001b[0m\u001b[0mmin\u001b[0m\u001b[0;34m(\u001b[0m\u001b[0mX\u001b[0m\u001b[0;34m[\u001b[0m\u001b[0;34m:\u001b[0m\u001b[0;34m,\u001b[0m\u001b[0;36m0\u001b[0m\u001b[0;34m]\u001b[0m\u001b[0;34m)\u001b[0m\u001b[0;34m,\u001b[0m \u001b[0mmax\u001b[0m\u001b[0;34m(\u001b[0m\u001b[0mX\u001b[0m\u001b[0;34m[\u001b[0m\u001b[0;34m:\u001b[0m\u001b[0;34m,\u001b[0m\u001b[0;36m0\u001b[0m\u001b[0;34m]\u001b[0m\u001b[0;34m)\u001b[0m\u001b[0;34m]\u001b[0m\u001b[0;34m\u001b[0m\u001b[0;34m\u001b[0m\u001b[0m\n\u001b[0;32m---> 67\u001b[0;31m         \u001b[0my\u001b[0m \u001b[0;34m=\u001b[0m \u001b[0;34m[\u001b[0m\u001b[0mx\u001b[0m\u001b[0;34m[\u001b[0m\u001b[0;36m0\u001b[0m\u001b[0;34m]\u001b[0m\u001b[0;34m*\u001b[0m\u001b[0mb\u001b[0m\u001b[0;34m[\u001b[0m\u001b[0;36m0\u001b[0m\u001b[0;34m]\u001b[0m \u001b[0;34m+\u001b[0m \u001b[0mb\u001b[0m\u001b[0;34m[\u001b[0m\u001b[0;36m1\u001b[0m\u001b[0;34m]\u001b[0m\u001b[0;34m,\u001b[0m \u001b[0mx\u001b[0m\u001b[0;34m[\u001b[0m\u001b[0;36m1\u001b[0m\u001b[0;34m]\u001b[0m\u001b[0;34m*\u001b[0m\u001b[0mb\u001b[0m\u001b[0;34m[\u001b[0m\u001b[0;36m0\u001b[0m\u001b[0;34m]\u001b[0m \u001b[0;34m+\u001b[0m \u001b[0mb\u001b[0m\u001b[0;34m[\u001b[0m\u001b[0;36m1\u001b[0m\u001b[0;34m]\u001b[0m\u001b[0;34m]\u001b[0m\u001b[0;34m\u001b[0m\u001b[0;34m\u001b[0m\u001b[0m\n\u001b[0m\u001b[1;32m     68\u001b[0m \u001b[0;34m\u001b[0m\u001b[0m\n\u001b[1;32m     69\u001b[0m         \u001b[0mplt\u001b[0m\u001b[0;34m.\u001b[0m\u001b[0mscatter\u001b[0m\u001b[0;34m(\u001b[0m\u001b[0mX\u001b[0m\u001b[0;34m[\u001b[0m\u001b[0;34m:\u001b[0m\u001b[0;34m,\u001b[0m\u001b[0;36m0\u001b[0m\u001b[0;34m]\u001b[0m\u001b[0;34m,\u001b[0m \u001b[0mY\u001b[0m\u001b[0;34m)\u001b[0m\u001b[0;34m\u001b[0m\u001b[0;34m\u001b[0m\u001b[0m\n",
      "\u001b[0;31mNameError\u001b[0m: name 'b' is not defined"
     ]
    }
   ],
   "source": [
    "# Fit on a single independent variable (average numbe of rooms)\n",
    "\n",
    "obj = LinearRegressionAnalysis()\n",
    "obj.load_data('usa-housingcsv.zip')\n",
    "obj.split_data(target='Price', cols=['Avg. Area Number of Rooms'])\n",
    "obj.fit()\n",
    "obj.plot_train_fit()\n",
    "obj.print_test_error()"
   ]
  },
  {
   "cell_type": "code",
   "execution_count": null,
   "metadata": {},
   "outputs": [],
   "source": [
    "# Fit on all independent variables\n",
    "\n",
    "obj.split_data(target='Price')\n",
    "obj.fit()\n",
    "obj.print_test_error()"
   ]
  }
 ],
 "metadata": {
  "kernelspec": {
   "display_name": "Python 3",
   "language": "python",
   "name": "python3"
  },
  "language_info": {
   "codemirror_mode": {
    "name": "ipython",
    "version": 3
   },
   "file_extension": ".py",
   "mimetype": "text/x-python",
   "name": "python",
   "nbconvert_exporter": "python",
   "pygments_lexer": "ipython3",
   "version": "3.7.6"
  }
 },
 "nbformat": 4,
 "nbformat_minor": 4
}
